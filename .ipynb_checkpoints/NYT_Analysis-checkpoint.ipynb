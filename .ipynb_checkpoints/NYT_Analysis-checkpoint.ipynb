{
 "cells": [
  {
   "cell_type": "code",
   "execution_count": 3,
   "metadata": {},
   "outputs": [
    {
     "name": "stdout",
     "output_type": "stream",
     "text": [
      "Section: sports -- Count: 13340\n",
      "Section: business day -- Count: 12999\n",
      "Section: u.s. -- Count: 12323\n",
      "Section: arts -- Count: 11661\n",
      "Section: paid death notices -- Count: 10608\n",
      "Section: opinion -- Count: 9875\n",
      "Section: world -- Count: 9621\n",
      "Section: n.y. / region -- Count: 8166\n",
      "Section: new york and region -- Count: 4579\n",
      "Section: technology -- Count: 3852\n",
      "Section: business -- Count: 2913\n",
      "Section: fashion & style -- Count: 2400\n",
      "Section: movies -- Count: 2398\n",
      "Section: health -- Count: 2102\n",
      "Section: science -- Count: 1854\n",
      "Section: books -- Count: 1806\n",
      "Section: travel -- Count: 1681\n",
      "Section: style -- Count: 1655\n",
      "Section: real estate -- Count: 1575\n",
      "Section: magazine -- Count: 1241\n",
      "Section: t:style -- Count: 1095\n"
     ]
    }
   ],
   "source": [
    "import pandas as pd\n",
    "import numpy as np\n",
    "import json\n",
    "\n",
    "\n",
    "section_stat = {}\n",
    "corpus = []\n",
    "\n",
    "with open('NewYorkTimesClean.jsonl') as f:\n",
    "    for i, line in enumerate(f):\n",
    "        meta = json.loads(line)\n",
    "        section = meta['section']\n",
    "        paragraph = meta['lead_paragraph']\n",
    "        if section not in section_stat:\n",
    "            section_stat[section] = []\n",
    "        section_stat[section].append(i)\n",
    "        if paragraph is not None:\n",
    "            corpus.append(paragraph)\n",
    "\n",
    "for label, count in sorted([(k, len(v)) for k, v in section_stat.items()], key=lambda x: x[1], reverse=True):\n",
    "    print(\"Section: %s -- Count: %s\" % (label, count))"
   ]
  },
  {
   "cell_type": "code",
   "execution_count": 4,
   "metadata": {},
   "outputs": [
    {
     "name": "stdout",
     "output_type": "stream",
     "text": [
      "106319\n"
     ]
    }
   ],
   "source": [
    "print(len(corpus))"
   ]
  },
  {
   "cell_type": "code",
   "execution_count": 5,
   "metadata": {},
   "outputs": [],
   "source": [
    "from sklearn.feature_extraction.text import CountVectorizer\n",
    "\n",
    "vectorizer = CountVectorizer()\n",
    "bag_of_words = vectorizer.fit_transform(corpus)"
   ]
  },
  {
   "cell_type": "code",
   "execution_count": 6,
   "metadata": {},
   "outputs": [],
   "source": [
    "from sklearn.model_selection import train_test_split\n",
    "from sklearn.naive_bayes import MultinomialNB"
   ]
  },
  {
   "cell_type": "code",
   "execution_count": 7,
   "metadata": {},
   "outputs": [
    {
     "data": {
      "text/html": [
       "<div>\n",
       "<style scoped>\n",
       "    .dataframe tbody tr th:only-of-type {\n",
       "        vertical-align: middle;\n",
       "    }\n",
       "\n",
       "    .dataframe tbody tr th {\n",
       "        vertical-align: top;\n",
       "    }\n",
       "\n",
       "    .dataframe thead th {\n",
       "        text-align: right;\n",
       "    }\n",
       "</style>\n",
       "<table border=\"1\" class=\"dataframe\">\n",
       "  <thead>\n",
       "    <tr style=\"text-align: right;\">\n",
       "      <th></th>\n",
       "      <th>headline</th>\n",
       "      <th>keywords</th>\n",
       "      <th>lead_paragraph</th>\n",
       "      <th>section</th>\n",
       "    </tr>\n",
       "  </thead>\n",
       "  <tbody>\n",
       "    <tr>\n",
       "      <th>0</th>\n",
       "      <td>None</td>\n",
       "      <td>[]</td>\n",
       "      <td>MAJOR LEAGUE BASEBALL American League YANKEES-...</td>\n",
       "      <td>sports</td>\n",
       "    </tr>\n",
       "    <tr>\n",
       "      <th>1</th>\n",
       "      <td>None</td>\n",
       "      <td>[{'name': 'persons', 'value': 'MARTINEZ, TINO'...</td>\n",
       "      <td>Tino Martinez does not know where he fits in w...</td>\n",
       "      <td>sports</td>\n",
       "    </tr>\n",
       "    <tr>\n",
       "      <th>2</th>\n",
       "      <td>None</td>\n",
       "      <td>[{'name': 'subject', 'value': 'BOWL GAMES'}, {...</td>\n",
       "      <td>ROSE BOWL No. 6 Texas (10-1) vs. No.13 Michiga...</td>\n",
       "      <td>sports</td>\n",
       "    </tr>\n",
       "    <tr>\n",
       "      <th>3</th>\n",
       "      <td>None</td>\n",
       "      <td>[{'name': 'persons', 'value': 'JOHNSON, RANDY'...</td>\n",
       "      <td>Now batting: the center fielder, No. 15, Carlo...</td>\n",
       "      <td>sports</td>\n",
       "    </tr>\n",
       "    <tr>\n",
       "      <th>4</th>\n",
       "      <td>None</td>\n",
       "      <td>[{'name': 'persons', 'value': 'SHOCKEY, JEREMY...</td>\n",
       "      <td>The Giants have listed receiver Amani Toomer a...</td>\n",
       "      <td>sports</td>\n",
       "    </tr>\n",
       "  </tbody>\n",
       "</table>\n",
       "</div>"
      ],
      "text/plain": [
       "  headline                                           keywords  \\\n",
       "0     None                                                 []   \n",
       "1     None  [{'name': 'persons', 'value': 'MARTINEZ, TINO'...   \n",
       "2     None  [{'name': 'subject', 'value': 'BOWL GAMES'}, {...   \n",
       "3     None  [{'name': 'persons', 'value': 'JOHNSON, RANDY'...   \n",
       "4     None  [{'name': 'persons', 'value': 'SHOCKEY, JEREMY...   \n",
       "\n",
       "                                      lead_paragraph section  \n",
       "0  MAJOR LEAGUE BASEBALL American League YANKEES-...  sports  \n",
       "1  Tino Martinez does not know where he fits in w...  sports  \n",
       "2  ROSE BOWL No. 6 Texas (10-1) vs. No.13 Michiga...  sports  \n",
       "3  Now batting: the center fielder, No. 15, Carlo...  sports  \n",
       "4  The Giants have listed receiver Amani Toomer a...  sports  "
      ]
     },
     "execution_count": 7,
     "metadata": {},
     "output_type": "execute_result"
    }
   ],
   "source": [
    "df = pd.read_json('NewYorkTimesClean.jsonl', lines=True)\n",
    "df = df.replace(to_replace='None', value=np.nan).dropna(subset=['lead_paragraph'])\n",
    "df.head()"
   ]
  },
  {
   "cell_type": "code",
   "execution_count": 8,
   "metadata": {},
   "outputs": [
    {
     "data": {
      "text/plain": [
       "106319"
      ]
     },
     "execution_count": 8,
     "metadata": {},
     "output_type": "execute_result"
    }
   ],
   "source": [
    "len(df)"
   ]
  },
  {
   "cell_type": "code",
   "execution_count": 9,
   "metadata": {},
   "outputs": [
    {
     "data": {
      "text/plain": [
       "12443"
      ]
     },
     "execution_count": 9,
     "metadata": {},
     "output_type": "execute_result"
    }
   ],
   "source": [
    "len(df[df.section=='sports'])"
   ]
  },
  {
   "cell_type": "code",
   "execution_count": 10,
   "metadata": {},
   "outputs": [],
   "source": [
    "df.loc[df['section']=='sports','section']=0\n",
    "df.loc[df['section']=='business day','section']=1\n",
    "df.loc[df['section']=='u.s.','section']=2\n",
    "df.loc[df['section']=='arts','section']=3\n",
    "df.loc[df['section']=='paid death notices','section']=4\n",
    "df.loc[df['section']=='opinion','section']=5\n",
    "df.loc[df['section']=='world','section']=6\n",
    "df.loc[df['section']=='n.y. / region','section']=7\n",
    "df.loc[df['section']=='new york and region','section']=8\n",
    "df.loc[df['section']=='technology','section']=9\n",
    "df.loc[df['section']=='business','section']=10\n",
    "df.loc[df['section']=='fashion & style','section']=11\n",
    "df.loc[df['section']=='movies','section']=12\n",
    "df.loc[df['section']=='health','section']=13\n",
    "df.loc[df['section']=='science','section']=14\n",
    "df.loc[df['section']=='books','section']=15\n",
    "df.loc[df['section']=='travel','section']=16\n",
    "df.loc[df['section']=='style','section']=17\n",
    "df.loc[df['section']=='real estate','section']=18\n",
    "df.loc[df['section']=='magazine','section']=19\n",
    "df.loc[df['section']=='t:style','section']=20"
   ]
  },
  {
   "cell_type": "code",
   "execution_count": 11,
   "metadata": {},
   "outputs": [
    {
     "data": {
      "text/html": [
       "<div>\n",
       "<style scoped>\n",
       "    .dataframe tbody tr th:only-of-type {\n",
       "        vertical-align: middle;\n",
       "    }\n",
       "\n",
       "    .dataframe tbody tr th {\n",
       "        vertical-align: top;\n",
       "    }\n",
       "\n",
       "    .dataframe thead th {\n",
       "        text-align: right;\n",
       "    }\n",
       "</style>\n",
       "<table border=\"1\" class=\"dataframe\">\n",
       "  <thead>\n",
       "    <tr style=\"text-align: right;\">\n",
       "      <th></th>\n",
       "      <th>headline</th>\n",
       "      <th>keywords</th>\n",
       "      <th>lead_paragraph</th>\n",
       "      <th>section</th>\n",
       "    </tr>\n",
       "  </thead>\n",
       "  <tbody>\n",
       "    <tr>\n",
       "      <th>0</th>\n",
       "      <td>None</td>\n",
       "      <td>[]</td>\n",
       "      <td>MAJOR LEAGUE BASEBALL American League YANKEES-...</td>\n",
       "      <td>0</td>\n",
       "    </tr>\n",
       "    <tr>\n",
       "      <th>1</th>\n",
       "      <td>None</td>\n",
       "      <td>[{'name': 'persons', 'value': 'MARTINEZ, TINO'...</td>\n",
       "      <td>Tino Martinez does not know where he fits in w...</td>\n",
       "      <td>0</td>\n",
       "    </tr>\n",
       "    <tr>\n",
       "      <th>2</th>\n",
       "      <td>None</td>\n",
       "      <td>[{'name': 'subject', 'value': 'BOWL GAMES'}, {...</td>\n",
       "      <td>ROSE BOWL No. 6 Texas (10-1) vs. No.13 Michiga...</td>\n",
       "      <td>0</td>\n",
       "    </tr>\n",
       "    <tr>\n",
       "      <th>3</th>\n",
       "      <td>None</td>\n",
       "      <td>[{'name': 'persons', 'value': 'JOHNSON, RANDY'...</td>\n",
       "      <td>Now batting: the center fielder, No. 15, Carlo...</td>\n",
       "      <td>0</td>\n",
       "    </tr>\n",
       "    <tr>\n",
       "      <th>4</th>\n",
       "      <td>None</td>\n",
       "      <td>[{'name': 'persons', 'value': 'SHOCKEY, JEREMY...</td>\n",
       "      <td>The Giants have listed receiver Amani Toomer a...</td>\n",
       "      <td>0</td>\n",
       "    </tr>\n",
       "  </tbody>\n",
       "</table>\n",
       "</div>"
      ],
      "text/plain": [
       "  headline                                           keywords  \\\n",
       "0     None                                                 []   \n",
       "1     None  [{'name': 'persons', 'value': 'MARTINEZ, TINO'...   \n",
       "2     None  [{'name': 'subject', 'value': 'BOWL GAMES'}, {...   \n",
       "3     None  [{'name': 'persons', 'value': 'JOHNSON, RANDY'...   \n",
       "4     None  [{'name': 'persons', 'value': 'SHOCKEY, JEREMY...   \n",
       "\n",
       "                                      lead_paragraph section  \n",
       "0  MAJOR LEAGUE BASEBALL American League YANKEES-...       0  \n",
       "1  Tino Martinez does not know where he fits in w...       0  \n",
       "2  ROSE BOWL No. 6 Texas (10-1) vs. No.13 Michiga...       0  \n",
       "3  Now batting: the center fielder, No. 15, Carlo...       0  \n",
       "4  The Giants have listed receiver Amani Toomer a...       0  "
      ]
     },
     "execution_count": 11,
     "metadata": {},
     "output_type": "execute_result"
    }
   ],
   "source": [
    "df.head()"
   ]
  },
  {
   "cell_type": "code",
   "execution_count": 12,
   "metadata": {},
   "outputs": [],
   "source": [
    "df_x = df['lead_paragraph']\n",
    "df_y = df['section']"
   ]
  },
  {
   "cell_type": "code",
   "execution_count": 13,
   "metadata": {},
   "outputs": [
    {
     "data": {
      "text/plain": [
       "0         MAJOR LEAGUE BASEBALL American League YANKEES-...\n",
       "1         Tino Martinez does not know where he fits in w...\n",
       "2         ROSE BOWL No. 6 Texas (10-1) vs. No.13 Michiga...\n",
       "3         Now batting: the center fielder, No. 15, Carlo...\n",
       "4         The Giants have listed receiver Amani Toomer a...\n",
       "5         Quarterback Jake Delhomme said he thought it w...\n",
       "6         Maj. Billy Smith retired from the Florida Stat...\n",
       "7         SOMETIME between Wednesday night and yesterday...\n",
       "8         With the Bowl Championship Series formula dest...\n",
       "9         Jets Coach Herman Edwards says he has been sle...\n",
       "10        Stephon Marbury strolled off the Knicks' pract...\n",
       "11        The Nets and the Knicks have rarely enjoyed su...\n",
       "12        In his 24-year odyssey through higher educatio...\n",
       "13        To the Sports Editor: Re Murray Chass and the ...\n",
       "14        To the Sports Editor: As much as I like the ki...\n",
       "15        As the close of the year brings home the lesso...\n",
       "16        To the Sports Editor: Your tribute to Derrick ...\n",
       "17        Steve Francis surveys his winding career path ...\n",
       "18        THERE is a sticker price for a messiah coach. ...\n",
       "19        In the Mailbox of Dec. 26, the current town of...\n",
       "20        Whether the Knicks' Stephon Marbury is the bes...\n",
       "21        If an 0-4 start by the Buffalo Bills was bad, ...\n",
       "22        New Orleans Saints (7-8) at Carolina Panthers*...\n",
       "23        They live at opposite ends of the football uni...\n",
       "24        Al Borges, Auburn's offensive coordinator, sto...\n",
       "25        JEFF ZIMMERMAN's recent baseball biography rea...\n",
       "26        Steroids. Blood doping. Masking agents. Cheati...\n",
       "27        Vince Carter finally swaggered into Madison Sq...\n",
       "28        To the Sports Editor: One of the unexpected pl...\n",
       "29        Baseball's Hall of Fame voters, whose 2005 sel...\n",
       "                                ...                        \n",
       "117517    Last night, the screening room of the Core Clu...\n",
       "117519    Sonny Vandevelde's couture fashion week photo ...\n",
       "117521    At Givenchy, Riccardo Tisci was inspired by th...\n",
       "117523    The photographer Greg Kessler captures the tra...\n",
       "117525    The Look: Vroom Vroom. The classic American ca...\n",
       "117527    Designed by the French master of reinforced co...\n",
       "117529    I began the Year of the Dragon with the taste ...\n",
       "117531    At Valentino, Maria Grazia Chiuri and Pier Pao...\n",
       "117533    Elie SaabDesigner: Elie SaabDate: Wednesday, J...\n",
       "117535           Ioulex's couture fashion week photo diary.\n",
       "117537    Oftentimes the first thing that Tony Duquette ...\n",
       "117540    All the fashion news of the week that's fit to...\n",
       "117542    I've always had mixed feelings about Ian Schra...\n",
       "117544    The Aesa designer Randi Mates was fantasizing ...\n",
       "117546    Just about halfway through its marathon, six-m...\n",
       "117548    The Samurai Shopper hails from a tribe whose h...\n",
       "117550    For the next installment in our series on occu...\n",
       "117552    As Gretchen Mol gets ready to attend the S.A.G...\n",
       "117554    \"The Great American Cereal Book\" (Abrams Image...\n",
       "117556    The latest installment in Vincent Dilio's seri...\n",
       "117559    \"For a long time I have wanted to do takeaway ...\n",
       "117561    The Sundance Film Festival in Park City, Utah ...\n",
       "117563    The Look: Black Rose. A glamorous tea-length d...\n",
       "117565    \"Often the attention to details makes all the ...\n",
       "117567    In this installment, T's Online Editor Jane He...\n",
       "117569    The subtext for the arrival of a new season of...\n",
       "117571    Tricia Donegan, 41, met Stefani Joanne Angelin...\n",
       "117573    The Look: Natural Glow. A fresh face and simpl...\n",
       "117575    The work of the British artist-designers James...\n",
       "117577                          What's Hot: Social spa-ing.\n",
       "Name: lead_paragraph, Length: 106319, dtype: object"
      ]
     },
     "execution_count": 13,
     "metadata": {},
     "output_type": "execute_result"
    }
   ],
   "source": [
    "df_x"
   ]
  },
  {
   "cell_type": "code",
   "execution_count": 14,
   "metadata": {},
   "outputs": [],
   "source": [
    "cv = CountVectorizer()"
   ]
  },
  {
   "cell_type": "code",
   "execution_count": 15,
   "metadata": {},
   "outputs": [],
   "source": [
    "x_train, x_test, y_train, y_test = train_test_split(df_x, df_y, test_size=0.2, random_state=4)"
   ]
  },
  {
   "cell_type": "code",
   "execution_count": 16,
   "metadata": {},
   "outputs": [
    {
     "data": {
      "text/plain": [
       "3900     Philadelphia fans have mixed feelings about An...\n",
       "25437    Last year generated $4.7 trillion in announced...\n",
       "33989    Mitt Romney enters Florida on Monday wounded b...\n",
       "28993    A woman has been indicted on charges saying sh...\n",
       "42079    T. L. Stanley is locked back in the press room...\n",
       "Name: lead_paragraph, dtype: object"
      ]
     },
     "execution_count": 16,
     "metadata": {},
     "output_type": "execute_result"
    }
   ],
   "source": [
    "x_train.head()"
   ]
  },
  {
   "cell_type": "code",
   "execution_count": 17,
   "metadata": {},
   "outputs": [],
   "source": [
    "x_traincv = cv.fit_transform(x_train)"
   ]
  },
  {
   "cell_type": "code",
   "execution_count": 18,
   "metadata": {},
   "outputs": [],
   "source": [
    "x_testcv = cv.transform(x_test)"
   ]
  },
  {
   "cell_type": "code",
   "execution_count": 19,
   "metadata": {},
   "outputs": [
    {
     "data": {
      "text/plain": [
       "array([3, 2, 6, ..., 0, 3, 3])"
      ]
     },
     "execution_count": 19,
     "metadata": {},
     "output_type": "execute_result"
    }
   ],
   "source": [
    "mnb = MultinomialNB()\n",
    "\n",
    "y_train = y_train.astype('int')\n",
    "mnb.fit(x_traincv , y_train)\n",
    "testmessage=x_test.iloc[0]\n",
    "predictions=mnb.predict(x_testcv)\n",
    "\n",
    "predictions"
   ]
  },
  {
   "cell_type": "code",
   "execution_count": 32,
   "metadata": {},
   "outputs": [
    {
     "name": "stdout",
     "output_type": "stream",
     "text": [
      "Multinomial NB accuracy score with train data is 0.7123625889130563\n",
      "Multinomial NB accuracy score with test data is 0.6292325056433409\n"
     ]
    }
   ],
   "source": [
    "cv_y = CountVectorizer()\n",
    "#y_testcv = cv_y.fit_transform(y_test)\n",
    "y_test = y_test.astype('int')\n",
    "mnb_test_score = mnb.score(x_testcv, y_test)\n",
    "mnb_train_score = mnb.score(x_traincv, y_train)\n",
    "print('Multinomial NB accuracy score with train data is {}'.format(mnb_train_score))\n",
    "print('Multinomial NB accuracy score with test data is {}'.format(mnb_test_score))"
   ]
  },
  {
   "cell_type": "code",
   "execution_count": 27,
   "metadata": {},
   "outputs": [
    {
     "data": {
      "text/plain": [
       "SGDClassifier(alpha=0.0001, average=False, class_weight=None, epsilon=0.1,\n",
       "       eta0=0.0, fit_intercept=True, l1_ratio=0.15,\n",
       "       learning_rate='optimal', loss='hinge', max_iter=5, n_iter=None,\n",
       "       n_jobs=1, penalty='l2', power_t=0.5, random_state=5234,\n",
       "       shuffle=True, tol=None, verbose=0, warm_start=False)"
      ]
     },
     "execution_count": 27,
     "metadata": {},
     "output_type": "execute_result"
    }
   ],
   "source": [
    "from sklearn.linear_model import SGDClassifier\n",
    "svm_clf = SGDClassifier(max_iter=5, tol=None, loss='hinge', random_state=5234)\n",
    "svm_clf.fit(x_traincv, y_train)"
   ]
  },
  {
   "cell_type": "code",
   "execution_count": 31,
   "metadata": {},
   "outputs": [
    {
     "name": "stdout",
     "output_type": "stream",
     "text": [
      "SVM accuracy score with train data is 0.7719945917347598\n",
      "SVM accuracy score with test data is 0.6324303987960873\n"
     ]
    }
   ],
   "source": [
    "svm_train_score = svm_clf.score(x_traincv, y_train)\n",
    "svm_test_score = svm_clf.score(x_testcv, y_test)\n",
    "print('SVM accuracy score with train data is {}'.format(svm_train_score))\n",
    "print('SVM accuracy score with test data is {}'.format(svm_test_score))"
   ]
  },
  {
   "cell_type": "code",
   "execution_count": 50,
   "metadata": {},
   "outputs": [
    {
     "data": {
      "text/plain": [
       "MLPClassifier(activation='relu', alpha=0.3, batch_size='auto', beta_1=0.9,\n",
       "       beta_2=0.999, early_stopping=False, epsilon=1e-08,\n",
       "       hidden_layer_sizes=(20,), learning_rate='constant',\n",
       "       learning_rate_init=0.001, max_iter=200, momentum=0.9,\n",
       "       nesterovs_momentum=True, power_t=0.5, random_state=None,\n",
       "       shuffle=True, solver='adam', tol=0.0001, validation_fraction=0.1,\n",
       "       verbose=False, warm_start=False)"
      ]
     },
     "execution_count": 50,
     "metadata": {},
     "output_type": "execute_result"
    }
   ],
   "source": [
    "from sklearn.neural_network import MLPClassifier\n",
    "\n",
    "mlp_clf = MLPClassifier(hidden_layer_sizes=(20, ), alpha=0.3)\n",
    "mlp_clf.fit(x_traincv, y_train)"
   ]
  },
  {
   "cell_type": "code",
   "execution_count": 51,
   "metadata": {},
   "outputs": [
    {
     "name": "stdout",
     "output_type": "stream",
     "text": [
      "MLP accuracy score with train data is 0.8268414555287755\n",
      "MLP accuracy score with test data is 0.6901335590669676\n"
     ]
    }
   ],
   "source": [
    "mlp_train_score = mlp_clf.score(x_traincv, y_train)\n",
    "mlp_test_score = mlp_clf.score(x_testcv, y_test)\n",
    "print('MLP accuracy score with train data is {}'.format(mlp_train_score))\n",
    "print('MLP accuracy score with test data is {}'.format(mlp_test_score))"
   ]
  },
  {
   "cell_type": "code",
   "execution_count": null,
   "metadata": {},
   "outputs": [],
   "source": []
  }
 ],
 "metadata": {
  "kernelspec": {
   "display_name": "Python 3",
   "language": "python",
   "name": "python3"
  },
  "language_info": {
   "codemirror_mode": {
    "name": "ipython",
    "version": 3
   },
   "file_extension": ".py",
   "mimetype": "text/x-python",
   "name": "python",
   "nbconvert_exporter": "python",
   "pygments_lexer": "ipython3",
   "version": "3.7.0"
  }
 },
 "nbformat": 4,
 "nbformat_minor": 2
}
