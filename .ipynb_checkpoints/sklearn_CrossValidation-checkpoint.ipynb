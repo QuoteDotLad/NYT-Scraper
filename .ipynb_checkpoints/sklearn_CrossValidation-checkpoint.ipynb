{
 "cells": [
  {
   "cell_type": "code",
   "execution_count": 14,
   "metadata": {},
   "outputs": [],
   "source": [
    "import numpy as np\n",
    "import pandas as pd\n",
    "import matplotlib.pyplot as plt\n",
    "\n",
    "from sklearn import tree\n",
    "from sklearn.neural_network import MLPClassifier\n",
    "\n",
    "from sklearn.metrics import accuracy_score\n",
    "from scipy.stats import mode"
   ]
  },
  {
   "cell_type": "code",
   "execution_count": 82,
   "metadata": {},
   "outputs": [],
   "source": [
    "\"\"\" Load data \"\"\"\n",
    "data = pd.read_csv('train.csv')\n",
    "\n",
    "\"\"\" Sample data \"\"\"\n",
    "for i in range(10):\n",
    "    idx_by_label = np.array(data.index[data['label']==i].tolist())\n",
    "    idx_by_label_sample = np.random.choice(idx_by_label, size=1000, replace=False)\n",
    "    if i == 0:\n",
    "        idx_all = idx_by_label_sample\n",
    "    else:\n",
    "        idx_all = np.append(idx_all, idx_by_label_sample)\n",
    "\n",
    "data_sample = data.iloc[np.sort(idx_all)]\n",
    "\n",
    "\"\"\" Divide data to features and labels \"\"\"\n",
    "data_features = data_sample.iloc[:, 1:]\n",
    "data_labels = data_sample.iloc[:, 0]\n",
    "\n",
    "\"\"\" Convert Pandas to Array \"\"\"\n",
    "df_array = data_features.values\n",
    "dl_array = data_labels.values"
   ]
  },
  {
   "cell_type": "code",
   "execution_count": 83,
   "metadata": {},
   "outputs": [
    {
     "data": {
      "text/plain": [
       "DecisionTreeClassifier(class_weight=None, criterion='gini', max_depth=None,\n",
       "            max_features=None, max_leaf_nodes=None,\n",
       "            min_impurity_decrease=0.0, min_impurity_split=None,\n",
       "            min_samples_leaf=1, min_samples_split=2,\n",
       "            min_weight_fraction_leaf=0.0, presort=False, random_state=None,\n",
       "            splitter='best')"
      ]
     },
     "execution_count": 83,
     "metadata": {},
     "output_type": "execute_result"
    }
   ],
   "source": [
    "\"\"\" Task 1 \"\"\"\n",
    "\"\"\" Perform Decision Tree (DT) \"\"\"\n",
    "dt_clf = tree.DecisionTreeClassifier()\n",
    "dt_clf.fit(df_array, dl_array)"
   ]
  },
  {
   "cell_type": "code",
   "execution_count": 86,
   "metadata": {},
   "outputs": [
    {
     "data": {
      "text/plain": [
       "MLPClassifier(activation='relu', alpha=0.0001, batch_size='auto', beta_1=0.9,\n",
       "       beta_2=0.999, early_stopping=False, epsilon=1e-08,\n",
       "       hidden_layer_sizes=(100,), learning_rate='constant',\n",
       "       learning_rate_init=0.001, max_iter=200, momentum=0.9,\n",
       "       nesterovs_momentum=True, power_t=0.5, random_state=None,\n",
       "       shuffle=True, solver='adam', tol=0.0001, validation_fraction=0.1,\n",
       "       verbose=False, warm_start=False)"
      ]
     },
     "execution_count": 86,
     "metadata": {},
     "output_type": "execute_result"
    }
   ],
   "source": [
    "\"\"\" Perform Multi-Layer Perceptron (MLP) \"\"\"\n",
    "mlp_clf = MLPClassifier()\n",
    "mlp_clf.fit(df_array, dl_array)"
   ]
  },
  {
   "cell_type": "code",
   "execution_count": 87,
   "metadata": {},
   "outputs": [
    {
     "name": "stdout",
     "output_type": "stream",
     "text": [
      "Decision Tree Accuracy Score is 0.8962\n",
      "Multi-Layer Perceptron Accuracy Score is 0.9912\n"
     ]
    }
   ],
   "source": [
    "\"\"\" Task 2: Calculate the accuracy score \"\"\"\n",
    "def mapLabels(clust,trainLabel):\n",
    "    labels = np.zeros_like(clust)\n",
    "    for i in range(10):\n",
    "        mask = (clust == i)\n",
    "        labels[mask] = mode(trainLabel[mask])[0]\n",
    "    return labels\n",
    "\n",
    "dt_prediction = clf.predict(df_array)\n",
    "mlp_prediction = mlp_clf.predict(df_array)\n",
    "\n",
    "dt_label = mapLabels(dt_prediction, dl_array)\n",
    "mlp_label = mapLabels(mlp_prediction, dl_array)\n",
    "\n",
    "dt_acc_score = accuracy_score(dl_array, dt_label)\n",
    "mlp_acc_score = accuracy_score(dl_array, mlp_label)\n",
    "\n",
    "print('Decision Tree Accuracy Score is {}'.format(dt_acc_score))\n",
    "print('Multi-Layer Perceptron Accuracy Score is {}'.format(mlp_acc_score))"
   ]
  },
  {
   "cell_type": "code",
   "execution_count": 75,
   "metadata": {},
   "outputs": [
    {
     "name": "stdout",
     "output_type": "stream",
     "text": [
      "TRAIN: [5000 5001 5002 ... 9997 9998 9999] TEST: [   0    1    2 ... 4997 4998 4999]\n",
      "[DT] CV Score of #0 : 0.752\n",
      "[DT] CV Score of #1 : 0.805\n",
      "[DT] CV Score of #2 : 0.753\n",
      "[DT] CV Score of #3 : 0.748\n",
      "[DT] CV Score of #4 : 0.778\n",
      "[DT] CV Score of #5 : 0.752\n",
      "[DT] CV Score of #6 : 0.761\n",
      "[DT] CV Score of #7 : 0.763\n",
      "[DT] CV Score of #8 : 0.754\n",
      "[DT] CV Score of #9 : 0.764\n",
      "[DT] CV Score Average: 0.763\n",
      "TRAIN: [   0    1    2 ... 4997 4998 4999] TEST: [5000 5001 5002 ... 9997 9998 9999]\n",
      "[DT] CV Score of #0 : 0.764\n",
      "[DT] CV Score of #1 : 0.77\n",
      "[DT] CV Score of #2 : 0.771\n",
      "[DT] CV Score of #3 : 0.753\n",
      "[DT] CV Score of #4 : 0.747\n",
      "[DT] CV Score of #5 : 0.725\n",
      "[DT] CV Score of #6 : 0.744\n",
      "[DT] CV Score of #7 : 0.781\n",
      "[DT] CV Score of #8 : 0.771\n",
      "[DT] CV Score of #9 : 0.766\n",
      "[DT] CV Score Average: 0.759\n"
     ]
    }
   ],
   "source": [
    "\"\"\" Task 3: Perform cross-validation using DT and MLP methods \"\"\"\n",
    "from sklearn.model_selection import cross_val_score\n",
    "from sklearn.model_selection import KFold\n",
    "\n",
    "#dt_cv_score = cross_val_score(clf, data_features, data_labels, cv=10)\n",
    "#for i in range(len(dt_cv_score)):\n",
    "#    print('[DT] CV Score of {} : {}'.format(i, dt_cv_score[i]))\n",
    "#mlp_cv_score = cross_val_score(mlp_clf, data_features, data_labels, cv=10)\n",
    "#for i in range(len(mlp_cv_score)):\n",
    "#    print('[MLP] CV Score of {} : {}'.format(i, mlp_cv_score[i]))\n",
    "\n",
    "dt_kf_two = KFold(n_splits=2)\n",
    "dt_kf_two.get_n_splits(df_array)\n",
    "\n",
    "for train_index, test_index in dt_kf_two.split(df_array):\n",
    "    print(\"TRAIN:\", train_index, \"TEST:\", test_index)\n",
    "    X_train, X_test = [df_array[ii] for ii in train_index], [df_array[ii] for ii in test_index]\n",
    "    y_train, y_test = [dl_array[ii] for ii in train_index], [dl_array[ii] for ii in test_index]\n",
    "    \n",
    "    clf = tree.DecisionTreeClassifier() \n",
    "    clf.fit(X_train, y_train)\n",
    "    \n",
    "    y_pred = clf.predict(X_test)\n",
    "    \n",
    "    dt_cv_score = cross_val_score(clf, X_train, y_train, cv=10)\n",
    "    for i in range(len(dt_cv_score)):\n",
    "        print('[DT] CV Score of #{} : {}'.format(i, round(dt_cv_score[i],3)))\n",
    "    print('[DT] CV Score Average: {}'.format(round(dt_cv_score.mean(),3)))    "
   ]
  },
  {
   "cell_type": "code",
   "execution_count": 78,
   "metadata": {
    "scrolled": true
   },
   "outputs": [
    {
     "name": "stdout",
     "output_type": "stream",
     "text": [
      "TRAIN: [2500 2501 2502 ... 9997 9998 9999] TEST: [   0    1    2 ... 2497 2498 2499]\n",
      "[DT] CV Score #0 : 0.784\n",
      "[DT] CV Score #1 : 0.809\n",
      "[DT] CV Score #2 : 0.794\n",
      "[DT] CV Score #3 : 0.769\n",
      "[DT] CV Score #4 : 0.776\n",
      "[DT] CV Score #5 : 0.78\n",
      "[DT] CV Score #6 : 0.776\n",
      "[DT] CV Score #7 : 0.799\n",
      "[DT] CV Score #8 : 0.795\n",
      "[DT] CV Score #9 : 0.779\n",
      "[DT] CV Score Average: 0.786\n",
      "TRAIN: [   0    1    2 ... 9997 9998 9999] TEST: [2500 2501 2502 ... 4997 4998 4999]\n",
      "[DT] CV Score #0 : 0.801\n",
      "[DT] CV Score #1 : 0.797\n",
      "[DT] CV Score #2 : 0.799\n",
      "[DT] CV Score #3 : 0.81\n",
      "[DT] CV Score #4 : 0.785\n",
      "[DT] CV Score #5 : 0.785\n",
      "[DT] CV Score #6 : 0.777\n",
      "[DT] CV Score #7 : 0.778\n",
      "[DT] CV Score #8 : 0.79\n",
      "[DT] CV Score #9 : 0.78\n",
      "[DT] CV Score Average: 0.79\n",
      "TRAIN: [   0    1    2 ... 9997 9998 9999] TEST: [5000 5001 5002 ... 7497 7498 7499]\n",
      "[DT] CV Score #0 : 0.75\n",
      "[DT] CV Score #1 : 0.759\n",
      "[DT] CV Score #2 : 0.76\n",
      "[DT] CV Score #3 : 0.771\n",
      "[DT] CV Score #4 : 0.806\n",
      "[DT] CV Score #5 : 0.813\n",
      "[DT] CV Score #6 : 0.798\n",
      "[DT] CV Score #7 : 0.799\n",
      "[DT] CV Score #8 : 0.792\n",
      "[DT] CV Score #9 : 0.787\n",
      "[DT] CV Score Average: 0.783\n",
      "TRAIN: [   0    1    2 ... 7497 7498 7499] TEST: [7500 7501 7502 ... 9997 9998 9999]\n",
      "[DT] CV Score #0 : 0.785\n",
      "[DT] CV Score #1 : 0.788\n",
      "[DT] CV Score #2 : 0.794\n",
      "[DT] CV Score #3 : 0.777\n",
      "[DT] CV Score #4 : 0.802\n",
      "[DT] CV Score #5 : 0.814\n",
      "[DT] CV Score #6 : 0.781\n",
      "[DT] CV Score #7 : 0.79\n",
      "[DT] CV Score #8 : 0.776\n",
      "[DT] CV Score #9 : 0.792\n",
      "[DT] CV Score Average: 0.79\n"
     ]
    }
   ],
   "source": [
    "dt_kf_four = KFold(n_splits=4)\n",
    "dt_kf_four.get_n_splits(df_array)\n",
    "\n",
    "for train_index, test_index in dt_kf_four.split(df_array):\n",
    "    print(\"TRAIN:\", train_index, \"TEST:\", test_index)\n",
    "    X_train, X_test = [df_array[ii] for ii in train_index], [df_array[ii] for ii in test_index]\n",
    "    y_train, y_test = [dl_array[ii] for ii in train_index], [dl_array[ii] for ii in test_index]\n",
    "    \n",
    "    clf = tree.DecisionTreeClassifier() \n",
    "    clf.fit(X_train, y_train)\n",
    "    \n",
    "    y_pred = clf.predict(X_test)\n",
    "    \n",
    "    dt_cv_score = cross_val_score(clf, X_train, y_train, cv=10)\n",
    "    for i in range(len(dt_cv_score)):\n",
    "        print('[DT] CV Score #{} : {}'.format(i, round(dt_cv_score[i],3)))\n",
    "    print('[DT] CV Score Average: {}'.format(round(dt_cv_score.mean(),3)))"
   ]
  },
  {
   "cell_type": "code",
   "execution_count": 81,
   "metadata": {},
   "outputs": [
    {
     "name": "stdout",
     "output_type": "stream",
     "text": [
      "TRAIN: [5000 5001 5002 ... 9997 9998 9999] TEST: [   0    1    2 ... 4997 4998 4999]\n",
      "[MLP] CV Score #0 : 0.859\n",
      "[MLP] CV Score #1 : 0.883\n",
      "[MLP] CV Score #2 : 0.881\n",
      "[MLP] CV Score #3 : 0.865\n",
      "[MLP] CV Score #4 : 0.88\n",
      "[MLP] CV Score #5 : 0.892\n",
      "[MLP] CV Score #6 : 0.863\n",
      "[MLP] CV Score #7 : 0.885\n",
      "[MLP] CV Score #8 : 0.891\n",
      "[MLP] CV Score #9 : 0.881\n",
      "[MLP] CV Score Average: 0.878\n",
      "TRAIN: [   0    1    2 ... 4997 4998 4999] TEST: [5000 5001 5002 ... 9997 9998 9999]\n",
      "[MLP] CV Score #0 : 0.859\n",
      "[MLP] CV Score #1 : 0.903\n",
      "[MLP] CV Score #2 : 0.877\n",
      "[MLP] CV Score #3 : 0.861\n",
      "[MLP] CV Score #4 : 0.896\n",
      "[MLP] CV Score #5 : 0.876\n",
      "[MLP] CV Score #6 : 0.877\n",
      "[MLP] CV Score #7 : 0.887\n",
      "[MLP] CV Score #8 : 0.891\n",
      "[MLP] CV Score #9 : 0.903\n",
      "[MLP] CV Score Average: 0.883\n"
     ]
    }
   ],
   "source": [
    "mlp_kf_two = KFold(n_splits=2)\n",
    "mlp_kf_two.get_n_splits(df_array)\n",
    "\n",
    "for train_index, test_index in mlp_kf_two.split(df_array):\n",
    "    print(\"TRAIN:\", train_index, \"TEST:\", test_index)\n",
    "    X_train, X_test = [df_array[ii] for ii in train_index], [df_array[ii] for ii in test_index]\n",
    "    y_train, y_test = [dl_array[ii] for ii in train_index], [dl_array[ii] for ii in test_index]\n",
    "    \n",
    "    clf = MLPClassifier()\n",
    "    clf.fit(X_train, y_train)\n",
    "    \n",
    "    y_pred = clf.predict(X_test)\n",
    "    \n",
    "    mlp_cv_score = cross_val_score(clf, X_train, y_train, cv=10)\n",
    "    for i in range(len(mlp_cv_score)):\n",
    "        print('[MLP] CV Score #{} : {}'.format(i, round(mlp_cv_score[i],3)))\n",
    "    print('[MLP] CV Score Average: {}'.format(round(mlp_cv_score.mean(),3)))"
   ]
  },
  {
   "cell_type": "code",
   "execution_count": 89,
   "metadata": {},
   "outputs": [
    {
     "name": "stdout",
     "output_type": "stream",
     "text": [
      "TRAIN: [2500 2501 2502 ... 9997 9998 9999] TEST: [   0    1    2 ... 2497 2498 2499]\n",
      "[MLP] CV Score #0 : 0.893\n",
      "[MLP] CV Score #1 : 0.903\n",
      "[MLP] CV Score #2 : 0.903\n",
      "[MLP] CV Score #3 : 0.914\n",
      "[MLP] CV Score #4 : 0.891\n",
      "[MLP] CV Score #5 : 0.893\n",
      "[MLP] CV Score #6 : 0.904\n",
      "[MLP] CV Score #7 : 0.899\n",
      "[MLP] CV Score #8 : 0.912\n",
      "[MLP] CV Score #9 : 0.914\n",
      "[MLP] CV Score Average: 0.903\n",
      "TRAIN: [   0    1    2 ... 9997 9998 9999] TEST: [2500 2501 2502 ... 4997 4998 4999]\n",
      "[MLP] CV Score #0 : 0.89\n",
      "[MLP] CV Score #1 : 0.907\n",
      "[MLP] CV Score #2 : 0.899\n",
      "[MLP] CV Score #3 : 0.911\n",
      "[MLP] CV Score #4 : 0.916\n",
      "[MLP] CV Score #5 : 0.908\n",
      "[MLP] CV Score #6 : 0.873\n",
      "[MLP] CV Score #7 : 0.904\n",
      "[MLP] CV Score #8 : 0.901\n",
      "[MLP] CV Score #9 : 0.898\n",
      "[MLP] CV Score Average: 0.901\n",
      "TRAIN: [   0    1    2 ... 9997 9998 9999] TEST: [5000 5001 5002 ... 7497 7498 7499]\n",
      "[MLP] CV Score #0 : 0.907\n",
      "[MLP] CV Score #1 : 0.92\n",
      "[MLP] CV Score #2 : 0.915\n",
      "[MLP] CV Score #3 : 0.903\n",
      "[MLP] CV Score #4 : 0.896\n",
      "[MLP] CV Score #5 : 0.902\n",
      "[MLP] CV Score #6 : 0.889\n",
      "[MLP] CV Score #7 : 0.92\n",
      "[MLP] CV Score #8 : 0.898\n",
      "[MLP] CV Score #9 : 0.908\n",
      "[MLP] CV Score Average: 0.906\n",
      "TRAIN: [   0    1    2 ... 7497 7498 7499] TEST: [7500 7501 7502 ... 9997 9998 9999]\n",
      "[MLP] CV Score #0 : 0.886\n",
      "[MLP] CV Score #1 : 0.9\n",
      "[MLP] CV Score #2 : 0.924\n",
      "[MLP] CV Score #3 : 0.895\n",
      "[MLP] CV Score #4 : 0.912\n",
      "[MLP] CV Score #5 : 0.889\n",
      "[MLP] CV Score #6 : 0.897\n",
      "[MLP] CV Score #7 : 0.897\n",
      "[MLP] CV Score #8 : 0.902\n",
      "[MLP] CV Score #9 : 0.899\n",
      "[MLP] CV Score Average: 0.9\n"
     ]
    }
   ],
   "source": [
    "mlp_kf_four = KFold(n_splits=4)\n",
    "mlp_kf_four.get_n_splits(df_array)\n",
    "\n",
    "for train_index, test_index in mlp_kf_four.split(df_array):\n",
    "    print(\"TRAIN:\", train_index, \"TEST:\", test_index)\n",
    "    X_train, X_test = [df_array[ii] for ii in train_index], [df_array[ii] for ii in test_index]\n",
    "    y_train, y_test = [dl_array[ii] for ii in train_index], [dl_array[ii] for ii in test_index]\n",
    "    \n",
    "    clf = MLPClassifier()\n",
    "    clf.fit(X_train, y_train)\n",
    "    \n",
    "    y_pred = clf.predict(X_test)\n",
    "    \n",
    "    mlp_cv_score = cross_val_score(clf, X_train, y_train, cv=10)\n",
    "    for i in range(len(mlp_cv_score)):\n",
    "        print('[MLP] CV Score #{} : {}'.format(i, round(mlp_cv_score[i],3)))\n",
    "    print('[MLP] CV Score Average: {}'.format(round(mlp_cv_score.mean(),3)))"
   ]
  },
  {
   "cell_type": "code",
   "execution_count": null,
   "metadata": {},
   "outputs": [],
   "source": []
  }
 ],
 "metadata": {
  "kernelspec": {
   "display_name": "Python 3",
   "language": "python",
   "name": "python3"
  },
  "language_info": {
   "codemirror_mode": {
    "name": "ipython",
    "version": 3
   },
   "file_extension": ".py",
   "mimetype": "text/x-python",
   "name": "python",
   "nbconvert_exporter": "python",
   "pygments_lexer": "ipython3",
   "version": "3.7.0"
  }
 },
 "nbformat": 4,
 "nbformat_minor": 2
}
